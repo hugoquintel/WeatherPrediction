{
 "cells": [
  {
   "cell_type": "code",
   "execution_count": 1,
   "metadata": {},
   "outputs": [],
   "source": [
    "#import data manipulation and visualisation libraries\n",
    "import numpy as np\n",
    "import pandas as pd\n",
    "import seaborn as sns \n",
    "import matplotlib.pyplot as plt\n",
    "\n",
    "#encoder\n",
    "from sklearn import preprocessing\n",
    "\n",
    "# Standardize the data\n",
    "from sklearn.preprocessing import StandardScaler\n",
    "\n",
    "#rebalancing target variable\n",
    "from imblearn.over_sampling import RandomOverSampler\n",
    "\n",
    "#ML libraries\n",
    "from sklearn.model_selection import train_test_split\n",
    "\n",
    "#other libraries\n",
    "import warnings\n",
    "warnings.filterwarnings('ignore')  # \"error\", \"ignore\", \"always\", \"default\", \"module\" or \"once\"\n",
    "\n",
    "#set no randomness\n",
    "np.random.seed(0)"
   ]
  },
  {
   "cell_type": "code",
   "execution_count": 2,
   "metadata": {},
   "outputs": [],
   "source": [
    "#load data from csv file\n",
    "dataset = pd.read_csv('./../data/seattle-weather.csv')"
   ]
  },
  {
   "cell_type": "code",
   "execution_count": 3,
   "metadata": {},
   "outputs": [],
   "source": [
    "#set boundaries for variables to remove outliers in data.\n",
    "Q1 = dataset.quantile(0.25)\n",
    "Q3 = dataset.quantile(0.75)\n",
    "IQR = Q3-Q1\n",
    "dataset = dataset[~((dataset< (Q1-1.5*IQR)) | (dataset>(Q3+1.5*IQR))).any(axis=1)]"
   ]
  },
  {
   "cell_type": "code",
   "execution_count": 4,
   "metadata": {},
   "outputs": [],
   "source": [
    "# Add a 'temp_avg' column and drop 'temp_min' and 'temp_max'\n",
    "dataset['temp_avg'] = dataset[['temp_max', 'temp_min']].mean(axis=1)\n",
    "dataset = dataset.drop(columns=['temp_max', 'temp_min'])\n",
    "temp = dataset['weather']\n",
    "dataset = dataset.drop(columns=['weather'])\n",
    "dataset['weather'] = temp"
   ]
  },
  {
   "cell_type": "code",
   "execution_count": 5,
   "metadata": {},
   "outputs": [],
   "source": [
    "# label_encoder object knows how to understand word labels.\n",
    "label_encoder = preprocessing.LabelEncoder()\n",
    "  \n",
    "# Encode labels in column 'weather'.\n",
    "dataset['weather']= label_encoder.fit_transform(dataset['weather'])"
   ]
  },
  {
   "cell_type": "code",
   "execution_count": 6,
   "metadata": {},
   "outputs": [],
   "source": [
    "#balancing the target variable\n",
    "columns = ['precipitation', 'wind', 'temp_avg']\n",
    "y = dataset['weather'] #prior target variable\n",
    "X = dataset[columns]  #prior features\n",
    "\n",
    "ros = RandomOverSampler(sampling_strategy='not majority')\n",
    "X_train_balanced, y_train_balanced = ros.fit_resample(X, y) #y_train as balanced target variable"
   ]
  },
  {
   "cell_type": "code",
   "execution_count": 7,
   "metadata": {},
   "outputs": [
    {
     "data": {
      "text/plain": [
       "((2222, 3), (953, 3), (2222,), (953,))"
      ]
     },
     "execution_count": 7,
     "metadata": {},
     "output_type": "execute_result"
    }
   ],
   "source": [
    "#preparation of train and test data for ML models\n",
    "X_train,X_test,y_train,y_test = train_test_split(X_train_balanced, y_train_balanced,test_size=0.3, random_state = 1) #70 % of train data, 30 % of test data\n",
    "X_train.shape,X_test.shape,y_train.shape,y_test.shape"
   ]
  },
  {
   "cell_type": "code",
   "execution_count": 8,
   "metadata": {},
   "outputs": [],
   "source": [
    "# Standardization to achive standard normal distribution\n",
    "sc = StandardScaler()\n",
    "sc = sc.fit(X_train)"
   ]
  },
  {
   "cell_type": "code",
   "execution_count": 9,
   "metadata": {},
   "outputs": [],
   "source": [
    "#dump file\n",
    "import pickle\n",
    "with open(\"./../model/scale.pkl\", \"wb\") as f:\n",
    "    pickle.dump(sc, f)"
   ]
  }
 ],
 "metadata": {
  "kernelspec": {
   "display_name": "MLandTool",
   "language": "python",
   "name": "python3"
  },
  "language_info": {
   "codemirror_mode": {
    "name": "ipython",
    "version": 3
   },
   "file_extension": ".py",
   "mimetype": "text/x-python",
   "name": "python",
   "nbconvert_exporter": "python",
   "pygments_lexer": "ipython3",
   "version": "3.9.0"
  },
  "orig_nbformat": 4,
  "vscode": {
   "interpreter": {
    "hash": "da60a7861844e35cfa072b3e29a1fd07f0d747c8fa83cb7cbc4ca8182821d230"
   }
  }
 },
 "nbformat": 4,
 "nbformat_minor": 2
}
